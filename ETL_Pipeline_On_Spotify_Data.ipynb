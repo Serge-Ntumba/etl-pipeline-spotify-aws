{
 "cells": [
  {
   "cell_type": "code",
   "execution_count": 14,
   "id": "63abc678",
   "metadata": {},
   "outputs": [],
   "source": [
    "import spotipy\n",
    "from spotipy.oauth2 import SpotifyClientCredentials\n",
    "import pandas as pd"
   ]
  },
  {
   "cell_type": "code",
   "execution_count": 24,
   "id": "54dd253c",
   "metadata": {},
   "outputs": [],
   "source": [
    "client_credentials_manager = SpotifyClientCredentials(client_id = \"5e3e7a2abd3d499a983bf05726f8c01d\", client_secret = \"40bda42e92454bf294406975d9320425\")"
   ]
  },
  {
   "cell_type": "code",
   "execution_count": 34,
   "id": "badee84e",
   "metadata": {},
   "outputs": [],
   "source": [
    "sp = spotipy.Spotify(client_credentials_manager = client_credentials_manager)"
   ]
  },
  {
   "cell_type": "code",
   "execution_count": 15,
   "id": "74b51f2e",
   "metadata": {},
   "outputs": [],
   "source": [
    "playlist_link = \"https://open.spotify.com/playlist/37i9dQZEVXbNG2KDcFcKOF\""
   ]
  },
  {
   "cell_type": "code",
   "execution_count": 20,
   "id": "e013e7e5",
   "metadata": {},
   "outputs": [],
   "source": [
    "playlist_url = playlist_link.split(\"/\")[-1]"
   ]
  },
  {
   "cell_type": "code",
   "execution_count": 36,
   "id": "1a2e3152",
   "metadata": {},
   "outputs": [
    {
     "name": "stderr",
     "output_type": "stream",
     "text": [
      "Couldn't read cache at: .cache\n",
      "Couldn't write token to cache at: .cache\n"
     ]
    }
   ],
   "source": [
    "data = sp.playlist_tracks(playlist_url)"
   ]
  },
  {
   "cell_type": "code",
   "execution_count": 44,
   "id": "89d92b28",
   "metadata": {},
   "outputs": [],
   "source": [
    "album_list = []\n",
    "\n",
    "for row in data[\"items\"]:\n",
    "    album_id = row[\"track\"][\"album\"][\"id\"]\n",
    "    album_name = row[\"track\"][\"album\"][\"name\"]\n",
    "    album_release_date = row[\"track\"][\"album\"][\"release_date\"]\n",
    "    album_total_tracks = row[\"track\"][\"album\"][\"total_tracks\"]\n",
    "    album_url = row[\"track\"][\"album\"][\"external_urls\"][\"spotify\"]\n",
    "    album_elememts = {\"album_id\": album_id, \"album_name\": album_name, \"album_release_date\":  album_release_date, \"album_total_tracks\": album_total_tracks, \"album_url\": album_url }\n",
    "\n",
    "    album_list.append(album_elememts)"
   ]
  },
  {
   "cell_type": "code",
   "execution_count": 46,
   "id": "2774d0af",
   "metadata": {},
   "outputs": [],
   "source": [
    "artist_list = []\n",
    "for row in data[\"items\"]:\n",
    "    for key, value in row.items():\n",
    "        if key == \"track\":\n",
    "            for artist in value[\"artists\"]:\n",
    "                artist_dict = {\"artist_id\": artist[\"id\"], \"artist_name\": artist[\"name\"], \"exteranl_url\": artist[\"href\"]}\n",
    "                artist_list.append(artist_dict)"
   ]
  },
  {
   "cell_type": "code",
   "execution_count": 55,
   "id": "71e64a8f",
   "metadata": {},
   "outputs": [],
   "source": [
    "song_list = []\n",
    "for row in data[\"items\"]:\n",
    "    song_id = row[\"track\"][\"id\"]\n",
    "    song_name = row[\"track\"][\"name\"]\n",
    "    song_duration = row[\"track\"][\"duration_ms\"]\n",
    "    song_url = row[\"track\"][\"external_urls\"][\"spotify\"]\n",
    "    song_popularity = row[\"track\"][\"popularity\"]\n",
    "    song_added = row[\"added_at\"]\n",
    "    album_id = row[\"track\"][\"album\"][\"id\"]\n",
    "    artist_id = row[\"track\"][\"album\"][\"artists\"][0][\"id\"]\n",
    "    song_elements = {\"song_id\": song_id, \"song_name\":  song_name, \"song_duration\":song_duration, \"song_url\":song_url, \"song_popularity\": song_popularity, \"song_added\": song_added, \"album_id\": album_id, \"artist_id\": artist_id }\n",
    "    song_list.append(song_elements)"
   ]
  },
  {
   "cell_type": "code",
   "execution_count": 81,
   "id": "26b20f3c",
   "metadata": {},
   "outputs": [],
   "source": [
    "album_df = pd.DataFrame.from_dict(album_list)"
   ]
  },
  {
   "cell_type": "code",
   "execution_count": 61,
   "id": "06f12981",
   "metadata": {},
   "outputs": [],
   "source": [
    "artist_df = pd.DataFrame.from_dict(artist_list)"
   ]
  },
  {
   "cell_type": "code",
   "execution_count": 70,
   "id": "92087efc",
   "metadata": {},
   "outputs": [],
   "source": [
    "song_df = pd.DataFrame.from_dict(song_list)"
   ]
  },
  {
   "cell_type": "code",
   "execution_count": 79,
   "id": "53072bf9",
   "metadata": {},
   "outputs": [],
   "source": [
    "album_df = album_df.drop_duplicates(subset=[\"album_id\"])"
   ]
  },
  {
   "cell_type": "code",
   "execution_count": 77,
   "id": "9a00d584",
   "metadata": {},
   "outputs": [],
   "source": [
    "artist_df = artist_df.drop_duplicates(subset=[\"artist_id\"])"
   ]
  },
  {
   "cell_type": "code",
   "execution_count": 75,
   "id": "a8aaf838",
   "metadata": {},
   "outputs": [],
   "source": [
    "album_df[\"album_release_date\"] = pd.to_datetime(album_df[\"album_release_date\"])"
   ]
  },
  {
   "cell_type": "code",
   "execution_count": 84,
   "id": "37a91ba2",
   "metadata": {},
   "outputs": [],
   "source": [
    "song_df[\"song_added\"] = pd.to_datetime(song_df[\"song_added\"])"
   ]
  },
  {
   "cell_type": "code",
   "execution_count": null,
   "id": "f80dde5c",
   "metadata": {},
   "outputs": [],
   "source": []
  }
 ],
 "metadata": {
  "kernelspec": {
   "display_name": "Python 3 (ipykernel)",
   "language": "python",
   "name": "python3"
  },
  "language_info": {
   "codemirror_mode": {
    "name": "ipython",
    "version": 3
   },
   "file_extension": ".py",
   "mimetype": "text/x-python",
   "name": "python",
   "nbconvert_exporter": "python",
   "pygments_lexer": "ipython3",
   "version": "3.9.17"
  }
 },
 "nbformat": 4,
 "nbformat_minor": 5
}
